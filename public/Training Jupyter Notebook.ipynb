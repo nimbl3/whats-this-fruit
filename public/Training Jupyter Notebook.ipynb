{
 "cells": [
  {
   "cell_type": "code",
   "execution_count": 1,
   "metadata": {},
   "outputs": [
    {
     "name": "stderr",
     "output_type": "stream",
     "text": [
      "/home/fikri/.virtualenvs/virtual-py3/lib/python3.5/site-packages/h5py/__init__.py:36: FutureWarning: Conversion of the second argument of issubdtype from `float` to `np.floating` is deprecated. In future, it will be treated as `np.float64 == np.dtype(float).type`.\n",
      "  from ._conv import register_converters as _register_converters\n",
      "Using TensorFlow backend.\n"
     ]
    },
    {
     "ename": "AttributeError",
     "evalue": "module 'keras.backend.tensorflow_backend' has no attribute '_get_available_gpus'",
     "output_type": "error",
     "traceback": [
      "\u001b[0;31m---------------------------------------------------------------------------\u001b[0m",
      "\u001b[0;31mAttributeError\u001b[0m                            Traceback (most recent call last)",
      "\u001b[0;32m<ipython-input-1-3d00d838479b>\u001b[0m in \u001b[0;36m<module>\u001b[0;34m()\u001b[0m\n\u001b[1;32m      1\u001b[0m \u001b[0;32mfrom\u001b[0m \u001b[0mkeras\u001b[0m \u001b[0;32mimport\u001b[0m \u001b[0mbackend\u001b[0m \u001b[0;32mas\u001b[0m \u001b[0mK\u001b[0m\u001b[0;34m\u001b[0m\u001b[0m\n\u001b[0;32m----> 2\u001b[0;31m \u001b[0mK\u001b[0m\u001b[0;34m.\u001b[0m\u001b[0mtensorflow_backend\u001b[0m\u001b[0;34m.\u001b[0m\u001b[0m_get_available_gpus\u001b[0m\u001b[0;34m(\u001b[0m\u001b[0;34m)\u001b[0m\u001b[0;34m\u001b[0m\u001b[0m\n\u001b[0m",
      "\u001b[0;31mAttributeError\u001b[0m: module 'keras.backend.tensorflow_backend' has no attribute '_get_available_gpus'"
     ]
    }
   ],
   "source": [
    "from keras import backend as K\n",
    "K.tensorflow_backend._get_available_gpus()"
   ]
  },
  {
   "cell_type": "code",
   "execution_count": 13,
   "metadata": {},
   "outputs": [
    {
     "name": "stdout",
     "output_type": "stream",
     "text": [
      "[name: \"/cpu:0\"\n",
      "device_type: \"CPU\"\n",
      "memory_limit: 268435456\n",
      "locality {\n",
      "}\n",
      "incarnation: 922948699215420057\n",
      ", name: \"/gpu:0\"\n",
      "device_type: \"GPU\"\n",
      "memory_limit: 92536832\n",
      "locality {\n",
      "  bus_id: 1\n",
      "}\n",
      "incarnation: 12834737183205714731\n",
      "physical_device_desc: \"device: 0, name: Tesla P100-PCIE-16GB, pci bus id: 5888:00:00.0\"\n",
      "]\n"
     ]
    }
   ],
   "source": [
    "from tensorflow.python.client import device_lib\n",
    "print(device_lib.list_local_devices())"
   ]
  },
  {
   "cell_type": "code",
   "execution_count": 14,
   "metadata": {},
   "outputs": [],
   "source": [
    "import tensorflow as tf\n",
    "sess = tf.Session(config=tf.ConfigProto(log_device_placement=True))"
   ]
  },
  {
   "cell_type": "code",
   "execution_count": 15,
   "metadata": {},
   "outputs": [
    {
     "name": "stdout",
     "output_type": "stream",
     "text": [
      "[<function InceptionV3 at 0x7f74b566dea0>, <function MobileNet at 0x7f74b55f6400>, <function ResNet50 at 0x7f74b566dd08>, <function VGG16 at 0x7f74b595ed90>, <function VGG19 at 0x7f74b566dae8>, <function Xception at 0x7f74b55f60d0>]\n"
     ]
    }
   ],
   "source": [
    "import keras\n",
    "import types\n",
    "\n",
    "\n",
    "print([getattr(keras.applications, a) for a in dir(keras.applications)\n",
    "  if isinstance(getattr(keras.applications, a), types.FunctionType)])"
   ]
  },
  {
   "cell_type": "code",
   "execution_count": 1,
   "metadata": {},
   "outputs": [
    {
     "name": "stderr",
     "output_type": "stream",
     "text": [
      "/home/fikri/.virtualenvs/virtual-py3/lib/python3.5/site-packages/h5py/__init__.py:36: FutureWarning: Conversion of the second argument of issubdtype from `float` to `np.floating` is deprecated. In future, it will be treated as `np.float64 == np.dtype(float).type`.\n",
      "  from ._conv import register_converters as _register_converters\n",
      "Using TensorFlow backend.\n"
     ]
    }
   ],
   "source": [
    "image_size = 224\n",
    "from keras.applications import MobileNet\n",
    "#Load the VGG model\n",
    "conv = MobileNet(weights='imagenet', include_top=False, input_shape=(image_size, image_size, 3))"
   ]
  },
  {
   "cell_type": "code",
   "execution_count": 2,
   "metadata": {},
   "outputs": [
    {
     "name": "stdout",
     "output_type": "stream",
     "text": [
      "<keras.engine.topology.InputLayer object at 0x7f4898075eb8> False\n",
      "<keras.layers.convolutional.Conv2D object at 0x7f4898075fd0> False\n",
      "<keras.layers.normalization.BatchNormalization object at 0x7f489808fe48> False\n",
      "<keras.layers.core.Activation object at 0x7f4825cceb00> False\n",
      "<keras.applications.mobilenet.DepthwiseConv2D object at 0x7f4825cce390> False\n",
      "<keras.layers.normalization.BatchNormalization object at 0x7f4825c7f080> False\n",
      "<keras.layers.core.Activation object at 0x7f4825c5ba90> False\n",
      "<keras.layers.convolutional.Conv2D object at 0x7f4825bee748> False\n",
      "<keras.layers.normalization.BatchNormalization object at 0x7f4825c13278> False\n",
      "<keras.layers.core.Activation object at 0x7f4825bebbe0> False\n",
      "<keras.applications.mobilenet.DepthwiseConv2D object at 0x7f4825bebcf8> False\n",
      "<keras.layers.normalization.BatchNormalization object at 0x7f4825ba4208> False\n",
      "<keras.layers.core.Activation object at 0x7f4825b0fac8> False\n",
      "<keras.layers.convolutional.Conv2D object at 0x7f4825afaf98> False\n",
      "<keras.layers.normalization.BatchNormalization object at 0x7f4825ab4048> False\n",
      "<keras.layers.core.Activation object at 0x7f4825a8ba58> False\n",
      "<keras.applications.mobilenet.DepthwiseConv2D object at 0x7f4825a8bf60> False\n",
      "<keras.layers.normalization.BatchNormalization object at 0x7f4825a335f8> False\n",
      "<keras.layers.core.Activation object at 0x7f4825a1ce10> False\n",
      "<keras.layers.convolutional.Conv2D object at 0x7f4825a1ceb8> False\n",
      "<keras.layers.normalization.BatchNormalization object at 0x7f48259c2588> False\n",
      "<keras.layers.core.Activation object at 0x7f48259addd8> False\n",
      "<keras.applications.mobilenet.DepthwiseConv2D object at 0x7f48259ad9e8> False\n",
      "<keras.layers.normalization.BatchNormalization object at 0x7f4825956470> False\n",
      "<keras.layers.core.Activation object at 0x7f48258bdd30> False\n",
      "<keras.layers.convolutional.Conv2D object at 0x7f48258bdc50> False\n",
      "<keras.layers.normalization.BatchNormalization object at 0x7f48258e5400> False\n",
      "<keras.layers.core.Activation object at 0x7f482584dc50> False\n",
      "<keras.applications.mobilenet.DepthwiseConv2D object at 0x7f482584d860> False\n",
      "<keras.layers.normalization.BatchNormalization object at 0x7f48257f5128> False\n",
      "<keras.layers.core.Activation object at 0x7f48257dfba8> False\n",
      "<keras.layers.convolutional.Conv2D object at 0x7f48257dfac8> False\n",
      "<keras.layers.normalization.BatchNormalization object at 0x7f4825785278> False\n",
      "<keras.layers.core.Activation object at 0x7f48256f1e48> False\n",
      "<keras.applications.mobilenet.DepthwiseConv2D object at 0x7f48256f15c0> False\n",
      "<keras.layers.normalization.BatchNormalization object at 0x7f4825716160> False\n",
      "<keras.layers.core.Activation object at 0x7f4825682f98> False\n",
      "<keras.layers.convolutional.Conv2D object at 0x7f4825682fd0> False\n",
      "<keras.layers.normalization.BatchNormalization object at 0x7f48256a90f0> False\n",
      "<keras.layers.core.Activation object at 0x7f4825612eb8> False\n",
      "<keras.applications.mobilenet.DepthwiseConv2D object at 0x7f4825612e80> False\n",
      "<keras.layers.normalization.BatchNormalization object at 0x7f48255b6320> False\n",
      "<keras.layers.core.Activation object at 0x7f48255a6e10> False\n",
      "<keras.layers.convolutional.Conv2D object at 0x7f48255a6e48> False\n",
      "<keras.layers.normalization.BatchNormalization object at 0x7f482554b0b8> False\n",
      "<keras.layers.core.Activation object at 0x7f48254b7cf8> False\n",
      "<keras.applications.mobilenet.DepthwiseConv2D object at 0x7f48254b7fd0> False\n",
      "<keras.layers.normalization.BatchNormalization object at 0x7f48254da198> False\n",
      "<keras.layers.core.Activation object at 0x7f482544af98> False\n",
      "<keras.layers.convolutional.Conv2D object at 0x7f482544acc0> False\n",
      "<keras.layers.normalization.BatchNormalization object at 0x7f48253ef128> False\n",
      "<keras.layers.core.Activation object at 0x7f48253dae48> False\n",
      "<keras.applications.mobilenet.DepthwiseConv2D object at 0x7f48253da128> False\n",
      "<keras.layers.normalization.BatchNormalization object at 0x7f4825358f98> False\n",
      "<keras.layers.core.Activation object at 0x7f4825380048> False\n",
      "<keras.layers.convolutional.Conv2D object at 0x7f482536ab38> False\n",
      "<keras.layers.normalization.BatchNormalization object at 0x7f4825310128> False\n",
      "<keras.layers.core.Activation object at 0x7f48252e9f60> False\n",
      "<keras.applications.mobilenet.DepthwiseConv2D object at 0x7f482527b358> False\n",
      "<keras.layers.normalization.BatchNormalization object at 0x7f48251fbe80> False\n",
      "<keras.layers.core.Activation object at 0x7f48252a3128> False\n",
      "<keras.layers.convolutional.Conv2D object at 0x7f482520f9b0> False\n",
      "<keras.layers.normalization.BatchNormalization object at 0x7f48251b62e8> False\n",
      "<keras.layers.core.Activation object at 0x7f482518bcf8> False\n",
      "<keras.applications.mobilenet.DepthwiseConv2D object at 0x7f48251a26a0> False\n",
      "<keras.layers.normalization.BatchNormalization object at 0x7f4825148358> False\n",
      "<keras.layers.core.Activation object at 0x7f482511fcc0> False\n",
      "<keras.layers.convolutional.Conv2D object at 0x7f48250b4828> False\n",
      "<keras.layers.normalization.BatchNormalization object at 0x7f48250d82e8> False\n",
      "<keras.layers.core.Activation object at 0x7f482502fd68> False\n",
      "<keras.applications.mobilenet.DepthwiseConv2D object at 0x7f48250456d8> False\n",
      "<keras.layers.normalization.BatchNormalization object at 0x7f48250681d0> False\n",
      "<keras.layers.core.Activation object at 0x7f4824fc0fd0> False\n",
      "<keras.layers.convolutional.Conv2D object at 0x7f4824fd66a0> False\n",
      "<keras.layers.normalization.BatchNormalization object at 0x7f4824f7b208> False\n",
      "<keras.layers.core.Activation object at 0x7f4824f52ac8> False\n",
      "<keras.applications.mobilenet.DepthwiseConv2D object at 0x7f4824f52fd0> False\n",
      "<keras.layers.normalization.BatchNormalization object at 0x7f4824efa668> False\n",
      "<keras.layers.core.Activation object at 0x7f4824ee4e80> False\n",
      "<keras.layers.convolutional.Conv2D object at 0x7f4824ee4f28> False\n",
      "<keras.layers.normalization.BatchNormalization object at 0x7f4824e8a5f8> False\n",
      "<keras.layers.core.Activation object at 0x7f4824e0a390> False\n"
     ]
    }
   ],
   "source": [
    "# Freeze the layers except the last 4 layers\n",
    "for layer in conv.layers:\n",
    "    layer.trainable = False\n",
    " \n",
    "# Check the trainable status of the individual layers\n",
    "for layer in conv.layers:\n",
    "    print(layer, layer.trainable)"
   ]
  },
  {
   "cell_type": "code",
   "execution_count": 3,
   "metadata": {},
   "outputs": [
    {
     "name": "stdout",
     "output_type": "stream",
     "text": [
      "_________________________________________________________________\n",
      "Layer (type)                 Output Shape              Param #   \n",
      "=================================================================\n",
      "mobilenet_1.00_224 (Model)   (None, 7, 7, 1024)        3228864   \n",
      "_________________________________________________________________\n",
      "flatten_1 (Flatten)          (None, 50176)             0         \n",
      "_________________________________________________________________\n",
      "dense_1 (Dense)              (None, 256)               12845312  \n",
      "_________________________________________________________________\n",
      "dropout_1 (Dropout)          (None, 256)               0         \n",
      "_________________________________________________________________\n",
      "dense_2 (Dense)              (None, 30)                7710      \n",
      "=================================================================\n",
      "Total params: 16,081,886\n",
      "Trainable params: 12,853,022\n",
      "Non-trainable params: 3,228,864\n",
      "_________________________________________________________________\n"
     ]
    }
   ],
   "source": [
    "from keras import models\n",
    "from keras import layers\n",
    "from keras import optimizers\n",
    " \n",
    "# Create the model\n",
    "model = models.Sequential()\n",
    " \n",
    "# Add the vgg convolutional base model\n",
    "model.add(conv)\n",
    " \n",
    "# Add new layers\n",
    "# model.add(layers.Flatten())\n",
    "# model.add(layers.Dense(1024, activation='relu'))\n",
    "# model.add(layers.Dropout(0.5))\n",
    "# model.add(layers.Dense(75, activation='softmax'))\n",
    "\n",
    "model.add(layers.Flatten())\n",
    "model.add(layers.Dense(256, activation='relu'))\n",
    "model.add(layers.Dropout(0.5))\n",
    "model.add(layers.Dense(30, activation='sigmoid'))\n",
    " \n",
    "# Show a summary of the model. Check the number of trainable parameters\n",
    "model.summary()"
   ]
  },
  {
   "cell_type": "code",
   "execution_count": 4,
   "metadata": {},
   "outputs": [],
   "source": [
    "train_dir = 'data/FIDS30/'\n",
    "validation_dir = 'data/valid'"
   ]
  },
  {
   "cell_type": "code",
   "execution_count": 7,
   "metadata": {},
   "outputs": [
    {
     "name": "stdout",
     "output_type": "stream",
     "text": [
      "Found 812 images belonging to 30 classes.\n",
      "Found 159 images belonging to 30 classes.\n"
     ]
    }
   ],
   "source": [
    "from keras.preprocessing.image import ImageDataGenerator\n",
    "\n",
    "train_datagen = ImageDataGenerator(\n",
    "      rescale=1./255,\n",
    "      rotation_range=20,\n",
    "      width_shift_range=0.2,\n",
    "      height_shift_range=0.2,\n",
    "      horizontal_flip=True,\n",
    "      fill_mode='nearest')\n",
    " \n",
    "validation_datagen = ImageDataGenerator(rescale=1./255)\n",
    " \n",
    "# Change the batchsize according to your system RAM\n",
    "train_batchsize = 100\n",
    "val_batchsize = 20\n",
    " \n",
    "train_generator = train_datagen.flow_from_directory(\n",
    "        train_dir,\n",
    "        target_size=(image_size, image_size),\n",
    "        batch_size=train_batchsize,\n",
    "        class_mode='categorical')\n",
    " \n",
    "validation_generator = validation_datagen.flow_from_directory(\n",
    "        validation_dir,\n",
    "        target_size=(image_size, image_size),\n",
    "        batch_size=val_batchsize,\n",
    "        class_mode='categorical',\n",
    "        shuffle=False)"
   ]
  },
  {
   "cell_type": "code",
   "execution_count": 9,
   "metadata": {},
   "outputs": [
    {
     "name": "stdout",
     "output_type": "stream",
     "text": [
      "Epoch 1/50\n",
      "9/8 [=================================] - 53s - loss: 2.3148 - acc: 0.4146 - val_loss: 1.7684 - val_acc: 0.6918\n",
      "Epoch 2/50\n",
      "9/8 [=================================] - 48s - loss: 2.2531 - acc: 0.4792 - val_loss: 1.7672 - val_acc: 0.6855\n",
      "Epoch 3/50\n",
      "9/8 [=================================] - 41s - loss: 1.9669 - acc: 0.5579 - val_loss: 1.5024 - val_acc: 0.7484\n",
      "Epoch 4/50\n",
      "9/8 [=================================] - 43s - loss: 1.9111 - acc: 0.5657 - val_loss: 1.4341 - val_acc: 0.7170\n",
      "Epoch 5/50\n",
      "9/8 [=================================] - 45s - loss: 1.9024 - acc: 0.5601 - val_loss: 1.3591 - val_acc: 0.8113\n",
      "Epoch 6/50\n",
      "9/8 [=================================] - 43s - loss: 1.7603 - acc: 0.6168 - val_loss: 1.3369 - val_acc: 0.7484\n",
      "Epoch 7/50\n",
      "9/8 [=================================] - 44s - loss: 1.7267 - acc: 0.6512 - val_loss: 1.1082 - val_acc: 0.7925\n",
      "Epoch 8/50\n",
      "9/8 [=================================] - 44s - loss: 1.6395 - acc: 0.6557 - val_loss: 1.1603 - val_acc: 0.8113\n",
      "Epoch 9/50\n",
      "9/8 [=================================] - 43s - loss: 1.5719 - acc: 0.6539 - val_loss: 1.1299 - val_acc: 0.7987\n",
      "Epoch 10/50\n",
      "9/8 [=================================] - 44s - loss: 1.4412 - acc: 0.6865 - val_loss: 0.9730 - val_acc: 0.8239\n",
      "Epoch 11/50\n",
      "9/8 [=================================] - 46s - loss: 1.5490 - acc: 0.6493 - val_loss: 1.0467 - val_acc: 0.7987\n",
      "Epoch 12/50\n",
      "9/8 [=================================] - 43s - loss: 1.4052 - acc: 0.7106 - val_loss: 0.8883 - val_acc: 0.8302\n",
      "Epoch 13/50\n",
      "9/8 [=================================] - 44s - loss: 1.4297 - acc: 0.7275 - val_loss: 0.8873 - val_acc: 0.8365\n",
      "Epoch 14/50\n",
      "9/8 [=================================] - 41s - loss: 1.2535 - acc: 0.7416 - val_loss: 0.8207 - val_acc: 0.8365\n",
      "Epoch 15/50\n",
      "9/8 [=================================] - 45s - loss: 1.2472 - acc: 0.7444 - val_loss: 0.9056 - val_acc: 0.8428\n",
      "Epoch 16/50\n",
      "9/8 [=================================] - 45s - loss: 1.2253 - acc: 0.7275 - val_loss: 0.8352 - val_acc: 0.8302\n",
      "Epoch 17/50\n",
      "9/8 [=================================] - 45s - loss: 1.2246 - acc: 0.7472 - val_loss: 0.8367 - val_acc: 0.8302\n",
      "Epoch 18/50\n",
      "9/8 [=================================] - 42s - loss: 1.1798 - acc: 0.7905 - val_loss: 0.7898 - val_acc: 0.8176\n",
      "Epoch 19/50\n",
      "9/8 [=================================] - 46s - loss: 1.2081 - acc: 0.7601 - val_loss: 0.8153 - val_acc: 0.8365\n",
      "Epoch 20/50\n",
      "9/8 [=================================] - 43s - loss: 1.1991 - acc: 0.7477 - val_loss: 0.8307 - val_acc: 0.8302\n",
      "Epoch 21/50\n",
      "9/8 [=================================] - 45s - loss: 0.9783 - acc: 0.7916 - val_loss: 0.8075 - val_acc: 0.8239\n",
      "Epoch 22/50\n",
      "9/8 [=================================] - 45s - loss: 1.0027 - acc: 0.7792 - val_loss: 0.7773 - val_acc: 0.8365\n",
      "Epoch 23/50\n",
      "9/8 [=================================] - 42s - loss: 1.0026 - acc: 0.8186 - val_loss: 0.7577 - val_acc: 0.8742\n",
      "Epoch 24/50\n",
      "9/8 [=================================] - 45s - loss: 0.9099 - acc: 0.7988 - val_loss: 0.7538 - val_acc: 0.8365\n",
      "Epoch 25/50\n",
      "9/8 [=================================] - 44s - loss: 1.0013 - acc: 0.8039 - val_loss: 0.8104 - val_acc: 0.8302\n",
      "Epoch 26/50\n",
      "9/8 [=================================] - 47s - loss: 0.9160 - acc: 0.8062 - val_loss: 0.7736 - val_acc: 0.8176\n",
      "Epoch 27/50\n",
      "9/8 [=================================] - 40s - loss: 0.8565 - acc: 0.8348 - val_loss: 0.6813 - val_acc: 0.8679\n",
      "Epoch 28/50\n",
      "9/8 [=================================] - 45s - loss: 0.8950 - acc: 0.8461 - val_loss: 0.8021 - val_acc: 0.8365\n",
      "Epoch 29/50\n",
      "9/8 [=================================] - 46s - loss: 0.7443 - acc: 0.8432 - val_loss: 0.7121 - val_acc: 0.8365\n",
      "Epoch 30/50\n",
      "9/8 [=================================] - 41s - loss: 0.8080 - acc: 0.8179 - val_loss: 0.7239 - val_acc: 0.8616\n",
      "Epoch 31/50\n",
      "9/8 [=================================] - 45s - loss: 0.7605 - acc: 0.8449 - val_loss: 0.7463 - val_acc: 0.8805\n",
      "Epoch 32/50\n",
      "9/8 [=================================] - 44s - loss: 0.7517 - acc: 0.8404 - val_loss: 0.8419 - val_acc: 0.8491\n",
      "Epoch 33/50\n",
      "9/8 [=================================] - 44s - loss: 0.7507 - acc: 0.8573 - val_loss: 0.6813 - val_acc: 0.8302\n",
      "Epoch 34/50\n",
      "9/8 [=================================] - 44s - loss: 0.7348 - acc: 0.8393 - val_loss: 0.7334 - val_acc: 0.8553\n",
      "Epoch 35/50\n",
      "9/8 [=================================] - 45s - loss: 0.7088 - acc: 0.8460 - val_loss: 0.7777 - val_acc: 0.8553\n",
      "Epoch 36/50\n",
      "9/8 [=================================] - 42s - loss: 0.6848 - acc: 0.8826 - val_loss: 0.6760 - val_acc: 0.8805\n",
      "Epoch 37/50\n",
      "9/8 [=================================] - 47s - loss: 0.5833 - acc: 0.8922 - val_loss: 0.6635 - val_acc: 0.8742\n",
      "Epoch 38/50\n",
      "9/8 [=================================] - 44s - loss: 0.6773 - acc: 0.8702 - val_loss: 0.6996 - val_acc: 0.8679\n",
      "Epoch 39/50\n",
      "9/8 [=================================] - 45s - loss: 0.6064 - acc: 0.8759 - val_loss: 0.7178 - val_acc: 0.8742\n",
      "Epoch 40/50\n",
      "9/8 [=================================] - 42s - loss: 0.6233 - acc: 0.8747 - val_loss: 0.7862 - val_acc: 0.8679\n",
      "Epoch 41/50\n",
      "9/8 [=================================] - 44s - loss: 0.7369 - acc: 0.8404 - val_loss: 0.7528 - val_acc: 0.8742\n",
      "Epoch 42/50\n",
      "9/8 [=================================] - 44s - loss: 0.4831 - acc: 0.8950 - val_loss: 0.7592 - val_acc: 0.8994\n",
      "Epoch 43/50\n",
      "9/8 [=================================] - 46s - loss: 0.6159 - acc: 0.9028 - val_loss: 0.7805 - val_acc: 0.8491\n",
      "Epoch 44/50\n",
      "9/8 [=================================] - 45s - loss: 0.6202 - acc: 0.8955 - val_loss: 0.8169 - val_acc: 0.8742\n",
      "Epoch 45/50\n",
      "9/8 [=================================] - 43s - loss: 0.5636 - acc: 0.8730 - val_loss: 0.8197 - val_acc: 0.8365\n",
      "Epoch 46/50\n",
      "9/8 [=================================] - 43s - loss: 0.6491 - acc: 0.8842 - val_loss: 0.7461 - val_acc: 0.8679\n",
      "Epoch 47/50\n",
      "9/8 [=================================] - 44s - loss: 0.5305 - acc: 0.8926 - val_loss: 0.7524 - val_acc: 0.8616\n",
      "Epoch 48/50\n",
      "9/8 [=================================] - 45s - loss: 0.5696 - acc: 0.8735 - val_loss: 0.7993 - val_acc: 0.8553\n",
      "Epoch 49/50\n",
      "9/8 [=================================] - 44s - loss: 0.5922 - acc: 0.8831 - val_loss: 1.0078 - val_acc: 0.8302\n",
      "Epoch 50/50\n",
      "9/8 [=================================] - 43s - loss: 0.5031 - acc: 0.8848 - val_loss: 0.7764 - val_acc: 0.8868\n"
     ]
    }
   ],
   "source": [
    "# Compile the model\n",
    "model.compile(loss='categorical_crossentropy',\n",
    "              optimizer=optimizers.RMSprop(lr=1e-4),\n",
    "              metrics=['acc'])\n",
    "# Train the model\n",
    "history = model.fit_generator(\n",
    "      train_generator,\n",
    "      steps_per_epoch=train_generator.samples/train_generator.batch_size ,\n",
    "      epochs=50,\n",
    "      validation_data=validation_generator,\n",
    "      validation_steps=validation_generator.samples/validation_generator.batch_size,\n",
    "      verbose=1)\n",
    " \n",
    "# Save the model\n",
    "model.save('MobileNet-False-FIDS30-Dense256.h5')"
   ]
  },
  {
   "cell_type": "code",
   "execution_count": 11,
   "metadata": {},
   "outputs": [
    {
     "data": {
      "image/png": "[encoded data removed]",
      "text/plain": [
       "<Figure size 432x288 with 1 Axes>"
      ]
     },
     "metadata": {},
     "output_type": "display_data"
    },
    {
     "data": {
      "image/png": "[encoded data removed]",
      "text/plain": [
       "<Figure size 432x288 with 1 Axes>"
      ]
     },
     "metadata": {},
     "output_type": "display_data"
    }
   ],
   "source": [
    "from keras.utils import to_categorical\n",
    "import matplotlib.pyplot as plt\n",
    "\n",
    "acc = history.history['acc']\n",
    "val_acc = history.history['val_acc']\n",
    "loss = history.history['loss']\n",
    "val_loss = history.history['val_loss']\n",
    " \n",
    "epochs = range(len(acc))\n",
    " \n",
    "plt.plot(epochs, acc, 'b', label='Training acc')\n",
    "plt.plot(epochs, val_acc, 'r', label='Validation acc')\n",
    "plt.title('Training and validation accuracy')\n",
    "plt.legend()\n",
    " \n",
    "plt.figure()\n",
    " \n",
    "plt.plot(epochs, loss, 'b', label='Training loss')\n",
    "plt.plot(epochs, val_loss, 'r', label='Validation loss')\n",
    "plt.title('Training and validation loss')\n",
    "plt.legend()\n",
    " \n",
    "plt.show()"
   ]
  },
  {
   "cell_type": "code",
   "execution_count": 12,
   "metadata": {},
   "outputs": [
    {
     "name": "stdout",
     "output_type": "stream",
     "text": [
      "Found 159 images belonging to 30 classes.\n"
     ]
    },
    {
     "data": {
      "text/plain": [
       "{0: 'acerolas',\n",
       " 1: 'apples',\n",
       " 2: 'apricots',\n",
       " 3: 'avocados',\n",
       " 4: 'bananas',\n",
       " 5: 'blackberries',\n",
       " 6: 'blueberries',\n",
       " 7: 'cantaloupes',\n",
       " 8: 'cherries',\n",
       " 9: 'coconuts',\n",
       " 10: 'figs',\n",
       " 11: 'grapefruits',\n",
       " 12: 'grapes',\n",
       " 13: 'guava',\n",
       " 14: 'kiwifruit',\n",
       " 15: 'lemons',\n",
       " 16: 'limes',\n",
       " 17: 'mangos',\n",
       " 18: 'olives',\n",
       " 19: 'oranges',\n",
       " 20: 'passionfruit',\n",
       " 21: 'peaches',\n",
       " 22: 'pears',\n",
       " 23: 'pineapples',\n",
       " 24: 'plums',\n",
       " 25: 'pomegranates',\n",
       " 26: 'raspberries',\n",
       " 27: 'strawberries',\n",
       " 28: 'tomatoes',\n",
       " 29: 'watermelons'}"
      ]
     },
     "execution_count": 12,
     "metadata": {},
     "output_type": "execute_result"
    }
   ],
   "source": [
    "from keras.preprocessing.image import load_img\n",
    "import numpy as np\n",
    "\n",
    "# Create a generator for prediction\n",
    "validation_generator = validation_datagen.flow_from_directory(\n",
    "        validation_dir,\n",
    "        target_size=(image_size, image_size),\n",
    "        batch_size=val_batchsize,\n",
    "        class_mode='categorical',\n",
    "        shuffle=False)\n",
    " \n",
    "# Get the filenames from the generator\n",
    "fnames = validation_generator.filenames\n",
    " \n",
    "# Get the ground truth from generator\n",
    "ground_truth = validation_generator.classes\n",
    "ground_truth\n",
    " \n",
    "# Get the label to class mapping from the generator\n",
    "label2index = validation_generator.class_indices\n",
    "\n",
    "# Getting the mapping from class index to class label\n",
    "idx2label = dict((v,k) for k,v in label2index.items())\n",
    "idx2label\n",
    "# Get the predictions from the model using the generator\n",
    "# predictions = model.predict_generator(validation_generator, steps=validation_generator.samples/validation_generator.batch_size,verbose=1)\n",
    "# predicted_classes = np.argmax(predictions,axis=1)\n",
    " \n",
    "# errors = np.where(predicted_classes != ground_truth)[0]\n",
    "# print(\"No of errors = {}/{}\".format(len(errors),validation_generator.samples))\n",
    " \n",
    "# Show the errors\n",
    "# for i in range(len(errors)):\n",
    "#     pred_class = np.argmax(predictions[errors[i]])\n",
    "#     pred_label = idx2label[pred_class]\n",
    "     \n",
    "#     title = 'Original label:{}, Prediction :{}, confidence : {:.3f}'.format(\n",
    "#         fnames[errors[i]].split('/')[0],\n",
    "#         pred_label,\n",
    "#         predictions[errors[i]][pred_class])\n",
    "     \n",
    "#     original = load_img('{}/{}'.format(validation_dir,fnames[errors[i]]))\n",
    "#     plt.figure(figsize=[7,7])\n",
    "#     plt.axis('off')\n",
    "#     plt.title(title)\n",
    "#     plt.imshow(original)\n",
    "#     plt.show()"
   ]
  },
  {
   "cell_type": "code",
   "execution_count": null,
   "metadata": {},
   "outputs": [],
   "source": []
  }
 ],
 "metadata": {
  "kernelspec": {
   "display_name": "Python 3",
   "language": "python",
   "name": "python3"
  },
  "language_info": {
   "codemirror_mode": {
    "name": "ipython",
    "version": 3
   },
   "file_extension": ".py",
   "mimetype": "text/x-python",
   "name": "python",
   "nbconvert_exporter": "python",
   "pygments_lexer": "ipython3",
   "version": "3.5.2"
  }
 },
 "nbformat": 4,
 "nbformat_minor": 2
}
